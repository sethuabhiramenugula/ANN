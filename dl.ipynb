{
 "cells": [
  {
   "cell_type": "code",
   "execution_count": 1,
   "metadata": {},
   "outputs": [],
   "source": [
    "import pandas as pd\n",
    "import numpy as np"
   ]
  },
  {
   "cell_type": "markdown",
   "metadata": {},
   "source": [
    "Loading Data and Exploring Features of Data"
   ]
  },
  {
   "cell_type": "code",
   "execution_count": 103,
   "metadata": {},
   "outputs": [
    {
     "data": {
      "text/html": [
       "<div>\n",
       "<style scoped>\n",
       "    .dataframe tbody tr th:only-of-type {\n",
       "        vertical-align: middle;\n",
       "    }\n",
       "\n",
       "    .dataframe tbody tr th {\n",
       "        vertical-align: top;\n",
       "    }\n",
       "\n",
       "    .dataframe thead th {\n",
       "        text-align: right;\n",
       "    }\n",
       "</style>\n",
       "<table border=\"1\" class=\"dataframe\">\n",
       "  <thead>\n",
       "    <tr style=\"text-align: right;\">\n",
       "      <th></th>\n",
       "      <th>RowNumber</th>\n",
       "      <th>CustomerId</th>\n",
       "      <th>Surname</th>\n",
       "      <th>CreditScore</th>\n",
       "      <th>Geography</th>\n",
       "      <th>Gender</th>\n",
       "      <th>Age</th>\n",
       "      <th>Tenure</th>\n",
       "      <th>Balance</th>\n",
       "      <th>NumOfProducts</th>\n",
       "      <th>HasCrCard</th>\n",
       "      <th>IsActiveMember</th>\n",
       "      <th>EstimatedSalary</th>\n",
       "      <th>Exited</th>\n",
       "    </tr>\n",
       "  </thead>\n",
       "  <tbody>\n",
       "    <tr>\n",
       "      <th>0</th>\n",
       "      <td>1</td>\n",
       "      <td>15634602</td>\n",
       "      <td>Hargrave</td>\n",
       "      <td>619</td>\n",
       "      <td>France</td>\n",
       "      <td>Female</td>\n",
       "      <td>42</td>\n",
       "      <td>2</td>\n",
       "      <td>0.00</td>\n",
       "      <td>1</td>\n",
       "      <td>1</td>\n",
       "      <td>1</td>\n",
       "      <td>101348.88</td>\n",
       "      <td>1</td>\n",
       "    </tr>\n",
       "    <tr>\n",
       "      <th>1</th>\n",
       "      <td>2</td>\n",
       "      <td>15647311</td>\n",
       "      <td>Hill</td>\n",
       "      <td>608</td>\n",
       "      <td>Spain</td>\n",
       "      <td>Female</td>\n",
       "      <td>41</td>\n",
       "      <td>1</td>\n",
       "      <td>83807.86</td>\n",
       "      <td>1</td>\n",
       "      <td>0</td>\n",
       "      <td>1</td>\n",
       "      <td>112542.58</td>\n",
       "      <td>0</td>\n",
       "    </tr>\n",
       "    <tr>\n",
       "      <th>2</th>\n",
       "      <td>3</td>\n",
       "      <td>15619304</td>\n",
       "      <td>Onio</td>\n",
       "      <td>502</td>\n",
       "      <td>France</td>\n",
       "      <td>Female</td>\n",
       "      <td>42</td>\n",
       "      <td>8</td>\n",
       "      <td>159660.80</td>\n",
       "      <td>3</td>\n",
       "      <td>1</td>\n",
       "      <td>0</td>\n",
       "      <td>113931.57</td>\n",
       "      <td>1</td>\n",
       "    </tr>\n",
       "    <tr>\n",
       "      <th>3</th>\n",
       "      <td>4</td>\n",
       "      <td>15701354</td>\n",
       "      <td>Boni</td>\n",
       "      <td>699</td>\n",
       "      <td>France</td>\n",
       "      <td>Female</td>\n",
       "      <td>39</td>\n",
       "      <td>1</td>\n",
       "      <td>0.00</td>\n",
       "      <td>2</td>\n",
       "      <td>0</td>\n",
       "      <td>0</td>\n",
       "      <td>93826.63</td>\n",
       "      <td>0</td>\n",
       "    </tr>\n",
       "    <tr>\n",
       "      <th>4</th>\n",
       "      <td>5</td>\n",
       "      <td>15737888</td>\n",
       "      <td>Mitchell</td>\n",
       "      <td>850</td>\n",
       "      <td>Spain</td>\n",
       "      <td>Female</td>\n",
       "      <td>43</td>\n",
       "      <td>2</td>\n",
       "      <td>125510.82</td>\n",
       "      <td>1</td>\n",
       "      <td>1</td>\n",
       "      <td>1</td>\n",
       "      <td>79084.10</td>\n",
       "      <td>0</td>\n",
       "    </tr>\n",
       "  </tbody>\n",
       "</table>\n",
       "</div>"
      ],
      "text/plain": [
       "   RowNumber  CustomerId   Surname  CreditScore Geography  Gender  Age  \\\n",
       "0          1    15634602  Hargrave          619    France  Female   42   \n",
       "1          2    15647311      Hill          608     Spain  Female   41   \n",
       "2          3    15619304      Onio          502    France  Female   42   \n",
       "3          4    15701354      Boni          699    France  Female   39   \n",
       "4          5    15737888  Mitchell          850     Spain  Female   43   \n",
       "\n",
       "   Tenure    Balance  NumOfProducts  HasCrCard  IsActiveMember  \\\n",
       "0       2       0.00              1          1               1   \n",
       "1       1   83807.86              1          0               1   \n",
       "2       8  159660.80              3          1               0   \n",
       "3       1       0.00              2          0               0   \n",
       "4       2  125510.82              1          1               1   \n",
       "\n",
       "   EstimatedSalary  Exited  \n",
       "0        101348.88       1  \n",
       "1        112542.58       0  \n",
       "2        113931.57       1  \n",
       "3         93826.63       0  \n",
       "4         79084.10       0  "
      ]
     },
     "execution_count": 103,
     "metadata": {},
     "output_type": "execute_result"
    }
   ],
   "source": [
    "df=pd.read_csv('Churn_Modelling.csv')\n",
    "df.head()\n"
   ]
  },
  {
   "cell_type": "markdown",
   "metadata": {},
   "source": [
    "Label details"
   ]
  },
  {
   "cell_type": "code",
   "execution_count": 104,
   "metadata": {},
   "outputs": [
    {
     "data": {
      "text/plain": [
       "0    7963\n",
       "1    2037\n",
       "Name: Exited, dtype: int64"
      ]
     },
     "execution_count": 104,
     "metadata": {},
     "output_type": "execute_result"
    }
   ],
   "source": [
    "df['Exited'].value_counts()"
   ]
  },
  {
   "cell_type": "markdown",
   "metadata": {},
   "source": [
    "Features datatypes"
   ]
  },
  {
   "cell_type": "code",
   "execution_count": 105,
   "metadata": {},
   "outputs": [
    {
     "data": {
      "text/plain": [
       "RowNumber            int64\n",
       "CustomerId           int64\n",
       "Surname             object\n",
       "CreditScore          int64\n",
       "Geography           object\n",
       "Gender              object\n",
       "Age                  int64\n",
       "Tenure               int64\n",
       "Balance            float64\n",
       "NumOfProducts        int64\n",
       "HasCrCard            int64\n",
       "IsActiveMember       int64\n",
       "EstimatedSalary    float64\n",
       "Exited               int64\n",
       "dtype: object"
      ]
     },
     "execution_count": 105,
     "metadata": {},
     "output_type": "execute_result"
    }
   ],
   "source": [
    "df.dtypes\n"
   ]
  },
  {
   "cell_type": "markdown",
   "metadata": {},
   "source": [
    "Pre-Processing Data:1. Handling Missing Values,2.checking for outliers etc"
   ]
  },
  {
   "cell_type": "code",
   "execution_count": 106,
   "metadata": {},
   "outputs": [
    {
     "data": {
      "text/plain": [
       "RowNumber          0\n",
       "CustomerId         0\n",
       "Surname            0\n",
       "CreditScore        0\n",
       "Geography          0\n",
       "Gender             0\n",
       "Age                0\n",
       "Tenure             0\n",
       "Balance            0\n",
       "NumOfProducts      0\n",
       "HasCrCard          0\n",
       "IsActiveMember     0\n",
       "EstimatedSalary    0\n",
       "Exited             0\n",
       "dtype: int64"
      ]
     },
     "execution_count": 106,
     "metadata": {},
     "output_type": "execute_result"
    }
   ],
   "source": [
    "df.isnull().sum()\n"
   ]
  },
  {
   "cell_type": "code",
   "execution_count": null,
   "metadata": {},
   "outputs": [],
   "source": [
    "3.identifying objects to be converted into numericals"
   ]
  },
  {
   "cell_type": "code",
   "execution_count": 107,
   "metadata": {},
   "outputs": [
    {
     "data": {
      "text/plain": [
       "['Surname', 'Geography', 'Gender']"
      ]
     },
     "execution_count": 107,
     "metadata": {},
     "output_type": "execute_result"
    }
   ],
   "source": [
    "obj_columns = []\n",
    "for i in df.columns:\n",
    "    if df[i].dtype == 'object':\n",
    "        obj_columns.append(i)\n",
    "obj_columns\n"
   ]
  },
  {
   "cell_type": "code",
   "execution_count": null,
   "metadata": {},
   "outputs": [],
   "source": [
    "4.feature selection and their involvement"
   ]
  },
  {
   "cell_type": "code",
   "execution_count": 108,
   "metadata": {},
   "outputs": [],
   "source": [
    "from scipy.stats import chi2_contingency\n"
   ]
  },
  {
   "cell_type": "code",
   "execution_count": 109,
   "metadata": {},
   "outputs": [
    {
     "name": "stdout",
     "output_type": "stream",
     "text": [
      "Surname:: 0.972:: False\n",
      "Geography:: 0.0:: True\n",
      "Gender:: 0.0:: True\n"
     ]
    }
   ],
   "source": [
    "for col in df.columns:\n",
    "    if df[col].dtype == 'object':\n",
    "        dataset = pd.crosstab(df[col],df['Exited'])\n",
    "        p_val = chi2_contingency(dataset)[1]\n",
    "        print(f\"{col}:: {round(p_val,3)}:: {p_val<0.05}\")\n"
   ]
  },
  {
   "cell_type": "markdown",
   "metadata": {},
   "source": [
    "we found that the column surname is an important feature so now we just convert the gender and geography to numericaks and drop surname column"
   ]
  },
  {
   "cell_type": "code",
   "execution_count": 110,
   "metadata": {},
   "outputs": [],
   "source": [
    "df.drop('Surname',axis=1,inplace=True)"
   ]
  },
  {
   "cell_type": "code",
   "execution_count": 111,
   "metadata": {},
   "outputs": [
    {
     "data": {
      "text/html": [
       "<div>\n",
       "<style scoped>\n",
       "    .dataframe tbody tr th:only-of-type {\n",
       "        vertical-align: middle;\n",
       "    }\n",
       "\n",
       "    .dataframe tbody tr th {\n",
       "        vertical-align: top;\n",
       "    }\n",
       "\n",
       "    .dataframe thead th {\n",
       "        text-align: right;\n",
       "    }\n",
       "</style>\n",
       "<table border=\"1\" class=\"dataframe\">\n",
       "  <thead>\n",
       "    <tr style=\"text-align: right;\">\n",
       "      <th></th>\n",
       "      <th>RowNumber</th>\n",
       "      <th>CustomerId</th>\n",
       "      <th>CreditScore</th>\n",
       "      <th>Geography</th>\n",
       "      <th>Gender</th>\n",
       "      <th>Age</th>\n",
       "      <th>Tenure</th>\n",
       "      <th>Balance</th>\n",
       "      <th>NumOfProducts</th>\n",
       "      <th>HasCrCard</th>\n",
       "      <th>IsActiveMember</th>\n",
       "      <th>EstimatedSalary</th>\n",
       "      <th>Exited</th>\n",
       "    </tr>\n",
       "  </thead>\n",
       "  <tbody>\n",
       "    <tr>\n",
       "      <th>0</th>\n",
       "      <td>1</td>\n",
       "      <td>15634602</td>\n",
       "      <td>619</td>\n",
       "      <td>France</td>\n",
       "      <td>Female</td>\n",
       "      <td>42</td>\n",
       "      <td>2</td>\n",
       "      <td>0.00</td>\n",
       "      <td>1</td>\n",
       "      <td>1</td>\n",
       "      <td>1</td>\n",
       "      <td>101348.88</td>\n",
       "      <td>1</td>\n",
       "    </tr>\n",
       "    <tr>\n",
       "      <th>1</th>\n",
       "      <td>2</td>\n",
       "      <td>15647311</td>\n",
       "      <td>608</td>\n",
       "      <td>Spain</td>\n",
       "      <td>Female</td>\n",
       "      <td>41</td>\n",
       "      <td>1</td>\n",
       "      <td>83807.86</td>\n",
       "      <td>1</td>\n",
       "      <td>0</td>\n",
       "      <td>1</td>\n",
       "      <td>112542.58</td>\n",
       "      <td>0</td>\n",
       "    </tr>\n",
       "    <tr>\n",
       "      <th>2</th>\n",
       "      <td>3</td>\n",
       "      <td>15619304</td>\n",
       "      <td>502</td>\n",
       "      <td>France</td>\n",
       "      <td>Female</td>\n",
       "      <td>42</td>\n",
       "      <td>8</td>\n",
       "      <td>159660.80</td>\n",
       "      <td>3</td>\n",
       "      <td>1</td>\n",
       "      <td>0</td>\n",
       "      <td>113931.57</td>\n",
       "      <td>1</td>\n",
       "    </tr>\n",
       "    <tr>\n",
       "      <th>3</th>\n",
       "      <td>4</td>\n",
       "      <td>15701354</td>\n",
       "      <td>699</td>\n",
       "      <td>France</td>\n",
       "      <td>Female</td>\n",
       "      <td>39</td>\n",
       "      <td>1</td>\n",
       "      <td>0.00</td>\n",
       "      <td>2</td>\n",
       "      <td>0</td>\n",
       "      <td>0</td>\n",
       "      <td>93826.63</td>\n",
       "      <td>0</td>\n",
       "    </tr>\n",
       "    <tr>\n",
       "      <th>4</th>\n",
       "      <td>5</td>\n",
       "      <td>15737888</td>\n",
       "      <td>850</td>\n",
       "      <td>Spain</td>\n",
       "      <td>Female</td>\n",
       "      <td>43</td>\n",
       "      <td>2</td>\n",
       "      <td>125510.82</td>\n",
       "      <td>1</td>\n",
       "      <td>1</td>\n",
       "      <td>1</td>\n",
       "      <td>79084.10</td>\n",
       "      <td>0</td>\n",
       "    </tr>\n",
       "  </tbody>\n",
       "</table>\n",
       "</div>"
      ],
      "text/plain": [
       "   RowNumber  CustomerId  CreditScore Geography  Gender  Age  Tenure  \\\n",
       "0          1    15634602          619    France  Female   42       2   \n",
       "1          2    15647311          608     Spain  Female   41       1   \n",
       "2          3    15619304          502    France  Female   42       8   \n",
       "3          4    15701354          699    France  Female   39       1   \n",
       "4          5    15737888          850     Spain  Female   43       2   \n",
       "\n",
       "     Balance  NumOfProducts  HasCrCard  IsActiveMember  EstimatedSalary  \\\n",
       "0       0.00              1          1               1        101348.88   \n",
       "1   83807.86              1          0               1        112542.58   \n",
       "2  159660.80              3          1               0        113931.57   \n",
       "3       0.00              2          0               0         93826.63   \n",
       "4  125510.82              1          1               1         79084.10   \n",
       "\n",
       "   Exited  \n",
       "0       1  \n",
       "1       0  \n",
       "2       1  \n",
       "3       0  \n",
       "4       0  "
      ]
     },
     "execution_count": 111,
     "metadata": {},
     "output_type": "execute_result"
    }
   ],
   "source": [
    "df.head()"
   ]
  },
  {
   "cell_type": "markdown",
   "metadata": {},
   "source": [
    "converting gender column to numerical using one hot encoding method"
   ]
  },
  {
   "cell_type": "code",
   "execution_count": 112,
   "metadata": {},
   "outputs": [],
   "source": [
    "encoded_gender = pd.get_dummies(df['Gender'], prefix='Gender')\n",
    "df = pd.concat([df, encoded_gender], axis=1)"
   ]
  },
  {
   "cell_type": "code",
   "execution_count": 113,
   "metadata": {},
   "outputs": [
    {
     "data": {
      "text/html": [
       "<div>\n",
       "<style scoped>\n",
       "    .dataframe tbody tr th:only-of-type {\n",
       "        vertical-align: middle;\n",
       "    }\n",
       "\n",
       "    .dataframe tbody tr th {\n",
       "        vertical-align: top;\n",
       "    }\n",
       "\n",
       "    .dataframe thead th {\n",
       "        text-align: right;\n",
       "    }\n",
       "</style>\n",
       "<table border=\"1\" class=\"dataframe\">\n",
       "  <thead>\n",
       "    <tr style=\"text-align: right;\">\n",
       "      <th></th>\n",
       "      <th>RowNumber</th>\n",
       "      <th>CustomerId</th>\n",
       "      <th>CreditScore</th>\n",
       "      <th>Geography</th>\n",
       "      <th>Gender</th>\n",
       "      <th>Age</th>\n",
       "      <th>Tenure</th>\n",
       "      <th>Balance</th>\n",
       "      <th>NumOfProducts</th>\n",
       "      <th>HasCrCard</th>\n",
       "      <th>IsActiveMember</th>\n",
       "      <th>EstimatedSalary</th>\n",
       "      <th>Exited</th>\n",
       "      <th>Gender_Female</th>\n",
       "      <th>Gender_Male</th>\n",
       "    </tr>\n",
       "  </thead>\n",
       "  <tbody>\n",
       "    <tr>\n",
       "      <th>0</th>\n",
       "      <td>1</td>\n",
       "      <td>15634602</td>\n",
       "      <td>619</td>\n",
       "      <td>France</td>\n",
       "      <td>Female</td>\n",
       "      <td>42</td>\n",
       "      <td>2</td>\n",
       "      <td>0.00</td>\n",
       "      <td>1</td>\n",
       "      <td>1</td>\n",
       "      <td>1</td>\n",
       "      <td>101348.88</td>\n",
       "      <td>1</td>\n",
       "      <td>1</td>\n",
       "      <td>0</td>\n",
       "    </tr>\n",
       "    <tr>\n",
       "      <th>1</th>\n",
       "      <td>2</td>\n",
       "      <td>15647311</td>\n",
       "      <td>608</td>\n",
       "      <td>Spain</td>\n",
       "      <td>Female</td>\n",
       "      <td>41</td>\n",
       "      <td>1</td>\n",
       "      <td>83807.86</td>\n",
       "      <td>1</td>\n",
       "      <td>0</td>\n",
       "      <td>1</td>\n",
       "      <td>112542.58</td>\n",
       "      <td>0</td>\n",
       "      <td>1</td>\n",
       "      <td>0</td>\n",
       "    </tr>\n",
       "    <tr>\n",
       "      <th>2</th>\n",
       "      <td>3</td>\n",
       "      <td>15619304</td>\n",
       "      <td>502</td>\n",
       "      <td>France</td>\n",
       "      <td>Female</td>\n",
       "      <td>42</td>\n",
       "      <td>8</td>\n",
       "      <td>159660.80</td>\n",
       "      <td>3</td>\n",
       "      <td>1</td>\n",
       "      <td>0</td>\n",
       "      <td>113931.57</td>\n",
       "      <td>1</td>\n",
       "      <td>1</td>\n",
       "      <td>0</td>\n",
       "    </tr>\n",
       "    <tr>\n",
       "      <th>3</th>\n",
       "      <td>4</td>\n",
       "      <td>15701354</td>\n",
       "      <td>699</td>\n",
       "      <td>France</td>\n",
       "      <td>Female</td>\n",
       "      <td>39</td>\n",
       "      <td>1</td>\n",
       "      <td>0.00</td>\n",
       "      <td>2</td>\n",
       "      <td>0</td>\n",
       "      <td>0</td>\n",
       "      <td>93826.63</td>\n",
       "      <td>0</td>\n",
       "      <td>1</td>\n",
       "      <td>0</td>\n",
       "    </tr>\n",
       "    <tr>\n",
       "      <th>4</th>\n",
       "      <td>5</td>\n",
       "      <td>15737888</td>\n",
       "      <td>850</td>\n",
       "      <td>Spain</td>\n",
       "      <td>Female</td>\n",
       "      <td>43</td>\n",
       "      <td>2</td>\n",
       "      <td>125510.82</td>\n",
       "      <td>1</td>\n",
       "      <td>1</td>\n",
       "      <td>1</td>\n",
       "      <td>79084.10</td>\n",
       "      <td>0</td>\n",
       "      <td>1</td>\n",
       "      <td>0</td>\n",
       "    </tr>\n",
       "  </tbody>\n",
       "</table>\n",
       "</div>"
      ],
      "text/plain": [
       "   RowNumber  CustomerId  CreditScore Geography  Gender  Age  Tenure  \\\n",
       "0          1    15634602          619    France  Female   42       2   \n",
       "1          2    15647311          608     Spain  Female   41       1   \n",
       "2          3    15619304          502    France  Female   42       8   \n",
       "3          4    15701354          699    France  Female   39       1   \n",
       "4          5    15737888          850     Spain  Female   43       2   \n",
       "\n",
       "     Balance  NumOfProducts  HasCrCard  IsActiveMember  EstimatedSalary  \\\n",
       "0       0.00              1          1               1        101348.88   \n",
       "1   83807.86              1          0               1        112542.58   \n",
       "2  159660.80              3          1               0        113931.57   \n",
       "3       0.00              2          0               0         93826.63   \n",
       "4  125510.82              1          1               1         79084.10   \n",
       "\n",
       "   Exited  Gender_Female  Gender_Male  \n",
       "0       1              1            0  \n",
       "1       0              1            0  \n",
       "2       1              1            0  \n",
       "3       0              1            0  \n",
       "4       0              1            0  "
      ]
     },
     "execution_count": 113,
     "metadata": {},
     "output_type": "execute_result"
    }
   ],
   "source": [
    "df.head()"
   ]
  },
  {
   "cell_type": "code",
   "execution_count": 114,
   "metadata": {},
   "outputs": [],
   "source": [
    "df.drop('Gender',axis=1,inplace=True)"
   ]
  },
  {
   "cell_type": "code",
   "execution_count": 115,
   "metadata": {},
   "outputs": [
    {
     "data": {
      "text/plain": [
       "['Geography']"
      ]
     },
     "execution_count": 115,
     "metadata": {},
     "output_type": "execute_result"
    }
   ],
   "source": [
    "obj_columns = []\n",
    "for i in df.columns:\n",
    "    if df[i].dtype == 'object':\n",
    "        obj_columns.append(i)\n",
    "obj_columns\n"
   ]
  },
  {
   "cell_type": "code",
   "execution_count": 116,
   "metadata": {},
   "outputs": [],
   "source": [
    "encoded_geography = pd.get_dummies(df['Geography'], prefix='Geography')\n",
    "df = pd.concat([df, encoded_geography], axis=1)"
   ]
  },
  {
   "cell_type": "code",
   "execution_count": 117,
   "metadata": {},
   "outputs": [
    {
     "data": {
      "text/html": [
       "<div>\n",
       "<style scoped>\n",
       "    .dataframe tbody tr th:only-of-type {\n",
       "        vertical-align: middle;\n",
       "    }\n",
       "\n",
       "    .dataframe tbody tr th {\n",
       "        vertical-align: top;\n",
       "    }\n",
       "\n",
       "    .dataframe thead th {\n",
       "        text-align: right;\n",
       "    }\n",
       "</style>\n",
       "<table border=\"1\" class=\"dataframe\">\n",
       "  <thead>\n",
       "    <tr style=\"text-align: right;\">\n",
       "      <th></th>\n",
       "      <th>RowNumber</th>\n",
       "      <th>CustomerId</th>\n",
       "      <th>CreditScore</th>\n",
       "      <th>Geography</th>\n",
       "      <th>Age</th>\n",
       "      <th>Tenure</th>\n",
       "      <th>Balance</th>\n",
       "      <th>NumOfProducts</th>\n",
       "      <th>HasCrCard</th>\n",
       "      <th>IsActiveMember</th>\n",
       "      <th>EstimatedSalary</th>\n",
       "      <th>Exited</th>\n",
       "      <th>Gender_Female</th>\n",
       "      <th>Gender_Male</th>\n",
       "      <th>Geography_France</th>\n",
       "      <th>Geography_Germany</th>\n",
       "      <th>Geography_Spain</th>\n",
       "    </tr>\n",
       "  </thead>\n",
       "  <tbody>\n",
       "    <tr>\n",
       "      <th>0</th>\n",
       "      <td>1</td>\n",
       "      <td>15634602</td>\n",
       "      <td>619</td>\n",
       "      <td>France</td>\n",
       "      <td>42</td>\n",
       "      <td>2</td>\n",
       "      <td>0.00</td>\n",
       "      <td>1</td>\n",
       "      <td>1</td>\n",
       "      <td>1</td>\n",
       "      <td>101348.88</td>\n",
       "      <td>1</td>\n",
       "      <td>1</td>\n",
       "      <td>0</td>\n",
       "      <td>1</td>\n",
       "      <td>0</td>\n",
       "      <td>0</td>\n",
       "    </tr>\n",
       "    <tr>\n",
       "      <th>1</th>\n",
       "      <td>2</td>\n",
       "      <td>15647311</td>\n",
       "      <td>608</td>\n",
       "      <td>Spain</td>\n",
       "      <td>41</td>\n",
       "      <td>1</td>\n",
       "      <td>83807.86</td>\n",
       "      <td>1</td>\n",
       "      <td>0</td>\n",
       "      <td>1</td>\n",
       "      <td>112542.58</td>\n",
       "      <td>0</td>\n",
       "      <td>1</td>\n",
       "      <td>0</td>\n",
       "      <td>0</td>\n",
       "      <td>0</td>\n",
       "      <td>1</td>\n",
       "    </tr>\n",
       "    <tr>\n",
       "      <th>2</th>\n",
       "      <td>3</td>\n",
       "      <td>15619304</td>\n",
       "      <td>502</td>\n",
       "      <td>France</td>\n",
       "      <td>42</td>\n",
       "      <td>8</td>\n",
       "      <td>159660.80</td>\n",
       "      <td>3</td>\n",
       "      <td>1</td>\n",
       "      <td>0</td>\n",
       "      <td>113931.57</td>\n",
       "      <td>1</td>\n",
       "      <td>1</td>\n",
       "      <td>0</td>\n",
       "      <td>1</td>\n",
       "      <td>0</td>\n",
       "      <td>0</td>\n",
       "    </tr>\n",
       "    <tr>\n",
       "      <th>3</th>\n",
       "      <td>4</td>\n",
       "      <td>15701354</td>\n",
       "      <td>699</td>\n",
       "      <td>France</td>\n",
       "      <td>39</td>\n",
       "      <td>1</td>\n",
       "      <td>0.00</td>\n",
       "      <td>2</td>\n",
       "      <td>0</td>\n",
       "      <td>0</td>\n",
       "      <td>93826.63</td>\n",
       "      <td>0</td>\n",
       "      <td>1</td>\n",
       "      <td>0</td>\n",
       "      <td>1</td>\n",
       "      <td>0</td>\n",
       "      <td>0</td>\n",
       "    </tr>\n",
       "    <tr>\n",
       "      <th>4</th>\n",
       "      <td>5</td>\n",
       "      <td>15737888</td>\n",
       "      <td>850</td>\n",
       "      <td>Spain</td>\n",
       "      <td>43</td>\n",
       "      <td>2</td>\n",
       "      <td>125510.82</td>\n",
       "      <td>1</td>\n",
       "      <td>1</td>\n",
       "      <td>1</td>\n",
       "      <td>79084.10</td>\n",
       "      <td>0</td>\n",
       "      <td>1</td>\n",
       "      <td>0</td>\n",
       "      <td>0</td>\n",
       "      <td>0</td>\n",
       "      <td>1</td>\n",
       "    </tr>\n",
       "  </tbody>\n",
       "</table>\n",
       "</div>"
      ],
      "text/plain": [
       "   RowNumber  CustomerId  CreditScore Geography  Age  Tenure    Balance  \\\n",
       "0          1    15634602          619    France   42       2       0.00   \n",
       "1          2    15647311          608     Spain   41       1   83807.86   \n",
       "2          3    15619304          502    France   42       8  159660.80   \n",
       "3          4    15701354          699    France   39       1       0.00   \n",
       "4          5    15737888          850     Spain   43       2  125510.82   \n",
       "\n",
       "   NumOfProducts  HasCrCard  IsActiveMember  EstimatedSalary  Exited  \\\n",
       "0              1          1               1        101348.88       1   \n",
       "1              1          0               1        112542.58       0   \n",
       "2              3          1               0        113931.57       1   \n",
       "3              2          0               0         93826.63       0   \n",
       "4              1          1               1         79084.10       0   \n",
       "\n",
       "   Gender_Female  Gender_Male  Geography_France  Geography_Germany  \\\n",
       "0              1            0                 1                  0   \n",
       "1              1            0                 0                  0   \n",
       "2              1            0                 1                  0   \n",
       "3              1            0                 1                  0   \n",
       "4              1            0                 0                  0   \n",
       "\n",
       "   Geography_Spain  \n",
       "0                0  \n",
       "1                1  \n",
       "2                0  \n",
       "3                0  \n",
       "4                1  "
      ]
     },
     "execution_count": 117,
     "metadata": {},
     "output_type": "execute_result"
    }
   ],
   "source": [
    "df.head()"
   ]
  },
  {
   "cell_type": "code",
   "execution_count": 118,
   "metadata": {},
   "outputs": [],
   "source": [
    "df.drop('Geography',axis=1,inplace=True)"
   ]
  },
  {
   "cell_type": "code",
   "execution_count": 119,
   "metadata": {},
   "outputs": [
    {
     "data": {
      "text/plain": [
       "[]"
      ]
     },
     "execution_count": 119,
     "metadata": {},
     "output_type": "execute_result"
    }
   ],
   "source": [
    "obj_columns = []\n",
    "for i in df.columns:\n",
    "    if df[i].dtype == 'object':\n",
    "        obj_columns.append(i)\n",
    "obj_columns\n"
   ]
  },
  {
   "cell_type": "markdown",
   "metadata": {},
   "source": [
    "similarly to surname the row number and cust_id cannot affet the customer to close their bank account so these rows also can be removed"
   ]
  },
  {
   "cell_type": "code",
   "execution_count": 120,
   "metadata": {},
   "outputs": [],
   "source": [
    "col=['CustomerId','RowNumber']\n",
    "df.drop(col,inplace=True,axis=1)"
   ]
  },
  {
   "cell_type": "code",
   "execution_count": 121,
   "metadata": {},
   "outputs": [
    {
     "data": {
      "text/html": [
       "<div>\n",
       "<style scoped>\n",
       "    .dataframe tbody tr th:only-of-type {\n",
       "        vertical-align: middle;\n",
       "    }\n",
       "\n",
       "    .dataframe tbody tr th {\n",
       "        vertical-align: top;\n",
       "    }\n",
       "\n",
       "    .dataframe thead th {\n",
       "        text-align: right;\n",
       "    }\n",
       "</style>\n",
       "<table border=\"1\" class=\"dataframe\">\n",
       "  <thead>\n",
       "    <tr style=\"text-align: right;\">\n",
       "      <th></th>\n",
       "      <th>CreditScore</th>\n",
       "      <th>Age</th>\n",
       "      <th>Tenure</th>\n",
       "      <th>Balance</th>\n",
       "      <th>NumOfProducts</th>\n",
       "      <th>HasCrCard</th>\n",
       "      <th>IsActiveMember</th>\n",
       "      <th>EstimatedSalary</th>\n",
       "      <th>Exited</th>\n",
       "      <th>Gender_Female</th>\n",
       "      <th>Gender_Male</th>\n",
       "      <th>Geography_France</th>\n",
       "      <th>Geography_Germany</th>\n",
       "      <th>Geography_Spain</th>\n",
       "    </tr>\n",
       "  </thead>\n",
       "  <tbody>\n",
       "    <tr>\n",
       "      <th>0</th>\n",
       "      <td>619</td>\n",
       "      <td>42</td>\n",
       "      <td>2</td>\n",
       "      <td>0.00</td>\n",
       "      <td>1</td>\n",
       "      <td>1</td>\n",
       "      <td>1</td>\n",
       "      <td>101348.88</td>\n",
       "      <td>1</td>\n",
       "      <td>1</td>\n",
       "      <td>0</td>\n",
       "      <td>1</td>\n",
       "      <td>0</td>\n",
       "      <td>0</td>\n",
       "    </tr>\n",
       "    <tr>\n",
       "      <th>1</th>\n",
       "      <td>608</td>\n",
       "      <td>41</td>\n",
       "      <td>1</td>\n",
       "      <td>83807.86</td>\n",
       "      <td>1</td>\n",
       "      <td>0</td>\n",
       "      <td>1</td>\n",
       "      <td>112542.58</td>\n",
       "      <td>0</td>\n",
       "      <td>1</td>\n",
       "      <td>0</td>\n",
       "      <td>0</td>\n",
       "      <td>0</td>\n",
       "      <td>1</td>\n",
       "    </tr>\n",
       "    <tr>\n",
       "      <th>2</th>\n",
       "      <td>502</td>\n",
       "      <td>42</td>\n",
       "      <td>8</td>\n",
       "      <td>159660.80</td>\n",
       "      <td>3</td>\n",
       "      <td>1</td>\n",
       "      <td>0</td>\n",
       "      <td>113931.57</td>\n",
       "      <td>1</td>\n",
       "      <td>1</td>\n",
       "      <td>0</td>\n",
       "      <td>1</td>\n",
       "      <td>0</td>\n",
       "      <td>0</td>\n",
       "    </tr>\n",
       "    <tr>\n",
       "      <th>3</th>\n",
       "      <td>699</td>\n",
       "      <td>39</td>\n",
       "      <td>1</td>\n",
       "      <td>0.00</td>\n",
       "      <td>2</td>\n",
       "      <td>0</td>\n",
       "      <td>0</td>\n",
       "      <td>93826.63</td>\n",
       "      <td>0</td>\n",
       "      <td>1</td>\n",
       "      <td>0</td>\n",
       "      <td>1</td>\n",
       "      <td>0</td>\n",
       "      <td>0</td>\n",
       "    </tr>\n",
       "    <tr>\n",
       "      <th>4</th>\n",
       "      <td>850</td>\n",
       "      <td>43</td>\n",
       "      <td>2</td>\n",
       "      <td>125510.82</td>\n",
       "      <td>1</td>\n",
       "      <td>1</td>\n",
       "      <td>1</td>\n",
       "      <td>79084.10</td>\n",
       "      <td>0</td>\n",
       "      <td>1</td>\n",
       "      <td>0</td>\n",
       "      <td>0</td>\n",
       "      <td>0</td>\n",
       "      <td>1</td>\n",
       "    </tr>\n",
       "  </tbody>\n",
       "</table>\n",
       "</div>"
      ],
      "text/plain": [
       "   CreditScore  Age  Tenure    Balance  NumOfProducts  HasCrCard  \\\n",
       "0          619   42       2       0.00              1          1   \n",
       "1          608   41       1   83807.86              1          0   \n",
       "2          502   42       8  159660.80              3          1   \n",
       "3          699   39       1       0.00              2          0   \n",
       "4          850   43       2  125510.82              1          1   \n",
       "\n",
       "   IsActiveMember  EstimatedSalary  Exited  Gender_Female  Gender_Male  \\\n",
       "0               1        101348.88       1              1            0   \n",
       "1               1        112542.58       0              1            0   \n",
       "2               0        113931.57       1              1            0   \n",
       "3               0         93826.63       0              1            0   \n",
       "4               1         79084.10       0              1            0   \n",
       "\n",
       "   Geography_France  Geography_Germany  Geography_Spain  \n",
       "0                 1                  0                0  \n",
       "1                 0                  0                1  \n",
       "2                 1                  0                0  \n",
       "3                 1                  0                0  \n",
       "4                 0                  0                1  "
      ]
     },
     "execution_count": 121,
     "metadata": {},
     "output_type": "execute_result"
    }
   ],
   "source": [
    "df.head()"
   ]
  },
  {
   "cell_type": "markdown",
   "metadata": {},
   "source": [
    "now we construct the model to perform prediction involving the splitting data primarily\n",
    "1.make the data seperated as data and labels for variables x and y where x is data and y is for labels"
   ]
  },
  {
   "cell_type": "code",
   "execution_count": 122,
   "metadata": {},
   "outputs": [],
   "source": [
    "x=df.drop('Exited',axis=1)\n",
    "y=df['Exited']\n"
   ]
  },
  {
   "cell_type": "markdown",
   "metadata": {},
   "source": [
    "splitting data for train and test"
   ]
  },
  {
   "cell_type": "code",
   "execution_count": 126,
   "metadata": {},
   "outputs": [],
   "source": [
    "from sklearn.model_selection import train_test_split\n",
    "x_train,x_test,y_train,y_test=train_test_split(x,y,test_size=0.2,random_state=42)"
   ]
  },
  {
   "cell_type": "markdown",
   "metadata": {},
   "source": [
    "standardizing data for better convergenc and bringing all features to same scale"
   ]
  },
  {
   "cell_type": "code",
   "execution_count": 131,
   "metadata": {},
   "outputs": [],
   "source": [
    "from sklearn.preprocessing import StandardScaler\n",
    "scaler=StandardScaler()\n",
    "x_train=scaler.fit_transform(x_train)\n",
    "x_test = scaler.transform(x_test)"
   ]
  },
  {
   "cell_type": "code",
   "execution_count": 128,
   "metadata": {},
   "outputs": [],
   "source": [
    "import tensorflow as tf"
   ]
  },
  {
   "cell_type": "code",
   "execution_count": 141,
   "metadata": {},
   "outputs": [
    {
     "data": {
      "text/plain": [
       "<function tensorflow.python.ops.losses.losses_impl.sparse_softmax_cross_entropy(labels, logits, weights=1.0, scope=None, loss_collection='losses', reduction='weighted_sum_by_nonzero_weights')>"
      ]
     },
     "execution_count": 141,
     "metadata": {},
     "output_type": "execute_result"
    }
   ],
   "source": [
    "tf.compat.v1.losses.sparse_softmax_cross_entropy\n"
   ]
  },
  {
   "cell_type": "markdown",
   "metadata": {},
   "source": [
    "Model"
   ]
  },
  {
   "cell_type": "code",
   "execution_count": 142,
   "metadata": {},
   "outputs": [],
   "source": [
    "model = tf.keras.Sequential([\n",
    "tf.keras.layers.Dense(128, activation='relu', input_shape=(x_train.shape[1],)),\n",
    "tf.keras.layers.Dense(64, activation='relu'),\n",
    "tf.keras.layers.Dense(32, activation='relu'),\n",
    "tf.keras.layers.Dense(16,activation='relu'),\n",
    "tf.keras.layers.Dense(1, activation='sigmoid')\n",
    "])"
   ]
  },
  {
   "cell_type": "code",
   "execution_count": 143,
   "metadata": {},
   "outputs": [],
   "source": [
    "from sklearn.metrics import confusion_matrix, accuracy_score"
   ]
  },
  {
   "cell_type": "markdown",
   "metadata": {},
   "source": [
    "evaluated using different optimizers"
   ]
  },
  {
   "cell_type": "code",
   "execution_count": 144,
   "metadata": {},
   "outputs": [
    {
     "name": "stdout",
     "output_type": "stream",
     "text": [
      "Epoch 1/10\n",
      "225/225 [==============================] - 2s 4ms/step - loss: 0.4521 - accuracy: 0.8051 - val_loss: 0.3840 - val_accuracy: 0.8375\n",
      "Epoch 2/10\n",
      "225/225 [==============================] - 1s 2ms/step - loss: 0.3698 - accuracy: 0.8483 - val_loss: 0.3706 - val_accuracy: 0.8438\n",
      "Epoch 3/10\n",
      "225/225 [==============================] - 1s 2ms/step - loss: 0.3463 - accuracy: 0.8593 - val_loss: 0.3550 - val_accuracy: 0.8537\n",
      "Epoch 4/10\n",
      "225/225 [==============================] - 0s 2ms/step - loss: 0.3387 - accuracy: 0.8618 - val_loss: 0.3466 - val_accuracy: 0.8550\n",
      "Epoch 5/10\n",
      "225/225 [==============================] - 0s 2ms/step - loss: 0.3334 - accuracy: 0.8649 - val_loss: 0.3421 - val_accuracy: 0.8525\n",
      "Epoch 6/10\n",
      "225/225 [==============================] - 0s 2ms/step - loss: 0.3268 - accuracy: 0.8661 - val_loss: 0.3434 - val_accuracy: 0.8512\n",
      "Epoch 7/10\n",
      "225/225 [==============================] - 0s 2ms/step - loss: 0.3213 - accuracy: 0.8696 - val_loss: 0.3465 - val_accuracy: 0.8562\n",
      "Epoch 8/10\n",
      "225/225 [==============================] - 0s 2ms/step - loss: 0.3190 - accuracy: 0.8701 - val_loss: 0.3422 - val_accuracy: 0.8562\n",
      "Epoch 9/10\n",
      "225/225 [==============================] - 1s 3ms/step - loss: 0.3163 - accuracy: 0.8718 - val_loss: 0.3445 - val_accuracy: 0.8487\n",
      "Epoch 10/10\n",
      "225/225 [==============================] - 1s 3ms/step - loss: 0.3098 - accuracy: 0.8714 - val_loss: 0.3463 - val_accuracy: 0.8500\n",
      "63/63 [==============================] - 0s 2ms/step\n",
      "\n",
      "Accuracy with adam optimizer: 0.858\n",
      "Confusion Matrix with adam optimizer:\n",
      "[[1523   84]\n",
      " [ 200  193]]\n",
      "Epoch 1/10\n",
      "225/225 [==============================] - 2s 4ms/step - loss: 0.2940 - accuracy: 0.8786 - val_loss: 0.3451 - val_accuracy: 0.8512\n",
      "Epoch 2/10\n",
      "225/225 [==============================] - 0s 2ms/step - loss: 0.2901 - accuracy: 0.8807 - val_loss: 0.3468 - val_accuracy: 0.8487\n",
      "Epoch 3/10\n",
      "225/225 [==============================] - 1s 2ms/step - loss: 0.2887 - accuracy: 0.8826 - val_loss: 0.3471 - val_accuracy: 0.8500\n",
      "Epoch 4/10\n",
      "225/225 [==============================] - 0s 2ms/step - loss: 0.2876 - accuracy: 0.8831 - val_loss: 0.3486 - val_accuracy: 0.8500\n",
      "Epoch 5/10\n",
      "225/225 [==============================] - 0s 2ms/step - loss: 0.2866 - accuracy: 0.8829 - val_loss: 0.3492 - val_accuracy: 0.8450\n",
      "Epoch 6/10\n",
      "225/225 [==============================] - 1s 3ms/step - loss: 0.2854 - accuracy: 0.8831 - val_loss: 0.3507 - val_accuracy: 0.8475\n",
      "Epoch 7/10\n",
      "225/225 [==============================] - 1s 2ms/step - loss: 0.2845 - accuracy: 0.8838 - val_loss: 0.3526 - val_accuracy: 0.8462\n",
      "Epoch 8/10\n",
      "225/225 [==============================] - 1s 3ms/step - loss: 0.2837 - accuracy: 0.8819 - val_loss: 0.3535 - val_accuracy: 0.8475\n",
      "Epoch 9/10\n",
      "225/225 [==============================] - 1s 3ms/step - loss: 0.2833 - accuracy: 0.8836 - val_loss: 0.3528 - val_accuracy: 0.8475\n",
      "Epoch 10/10\n",
      "225/225 [==============================] - 1s 3ms/step - loss: 0.2821 - accuracy: 0.8832 - val_loss: 0.3544 - val_accuracy: 0.8438\n",
      "63/63 [==============================] - 0s 2ms/step\n",
      "\n",
      "Accuracy with sgd optimizer: 0.8555\n",
      "Confusion Matrix with sgd optimizer:\n",
      "[[1518   89]\n",
      " [ 200  193]]\n",
      "Epoch 1/10\n",
      "225/225 [==============================] - 2s 4ms/step - loss: 0.3026 - accuracy: 0.8763 - val_loss: 0.3597 - val_accuracy: 0.8562\n",
      "Epoch 2/10\n",
      "225/225 [==============================] - 1s 3ms/step - loss: 0.2992 - accuracy: 0.8763 - val_loss: 0.3539 - val_accuracy: 0.8487\n",
      "Epoch 3/10\n",
      "225/225 [==============================] - 1s 4ms/step - loss: 0.2943 - accuracy: 0.8797 - val_loss: 0.3729 - val_accuracy: 0.8487\n",
      "Epoch 4/10\n",
      "225/225 [==============================] - 1s 3ms/step - loss: 0.2926 - accuracy: 0.8800 - val_loss: 0.3635 - val_accuracy: 0.8487\n",
      "Epoch 5/10\n",
      "225/225 [==============================] - 1s 5ms/step - loss: 0.2894 - accuracy: 0.8807 - val_loss: 0.3608 - val_accuracy: 0.8525\n",
      "Epoch 6/10\n",
      "225/225 [==============================] - 1s 4ms/step - loss: 0.2879 - accuracy: 0.8821 - val_loss: 0.3610 - val_accuracy: 0.8537\n",
      "Epoch 7/10\n",
      "225/225 [==============================] - 1s 3ms/step - loss: 0.2806 - accuracy: 0.8842 - val_loss: 0.3912 - val_accuracy: 0.8438\n",
      "Epoch 8/10\n",
      "225/225 [==============================] - 1s 3ms/step - loss: 0.2817 - accuracy: 0.8863 - val_loss: 0.3644 - val_accuracy: 0.8525\n",
      "Epoch 9/10\n",
      "225/225 [==============================] - 1s 4ms/step - loss: 0.2789 - accuracy: 0.8857 - val_loss: 0.3737 - val_accuracy: 0.8462\n",
      "Epoch 10/10\n",
      "225/225 [==============================] - 1s 5ms/step - loss: 0.2755 - accuracy: 0.8857 - val_loss: 0.3902 - val_accuracy: 0.8500\n",
      "63/63 [==============================] - 0s 2ms/step\n",
      "\n",
      "Accuracy with rmsprop optimizer: 0.856\n",
      "Confusion Matrix with rmsprop optimizer:\n",
      "[[1542   65]\n",
      " [ 223  170]]\n"
     ]
    }
   ],
   "source": [
    "optimizers = ['adam', 'sgd', 'rmsprop']\n",
    "for optimizer in optimizers:\n",
    "    model.compile(optimizer=optimizer, loss='binary_crossentropy',metrics=['accuracy'])\n",
    "    history=model.fit(x_train, y_train, epochs=10, batch_size=32, verbose=1,validation_split=0.1)\n",
    "    y_pred = model.predict(x_test)\n",
    "    y_pred = (y_pred > 0.5).astype(int)\n",
    "    accuracy = accuracy_score(y_test, y_pred)\n",
    "    print(f\"\\nAccuracy with {optimizer} optimizer: {accuracy}\")\n",
    "    print(f\"Confusion Matrix with {optimizer} optimizer:\\n{confusion_matrix(y_test, y_pred)}\")\n"
   ]
  },
  {
   "cell_type": "code",
   "execution_count": 145,
   "metadata": {},
   "outputs": [],
   "source": [
    "import matplotlib.pyplot as plt"
   ]
  },
  {
   "cell_type": "markdown",
   "metadata": {},
   "source": [
    "graphs of accuracy and loss for both train and validation"
   ]
  },
  {
   "cell_type": "code",
   "execution_count": 146,
   "metadata": {},
   "outputs": [
    {
     "data": {
      "image/png": "[encoded data removed]",
      "text/plain": [
       "<Figure size 1200x400 with 2 Axes>"
      ]
     },
     "metadata": {},
     "output_type": "display_data"
    }
   ],
   "source": [
    "plt.figure(figsize=(12, 4))\n",
    "# Plot training & validation accuracy values\n",
    "plt.subplot(1, 2, 1)\n",
    "plt.plot(history.history['accuracy'])\n",
    "plt.plot(history.history['val_accuracy'])\n",
    "plt.title('Model accuracy')\n",
    "plt.xlabel('Epoch')\n",
    "plt.ylabel('Accuracy')\n",
    "plt.legend(['Train', 'Validation'], loc='upper left')\n",
    "# Plot training & validation loss values\n",
    "plt.subplot(1, 2, 2)\n",
    "plt.plot(history.history['loss'])\n",
    "plt.plot(history.history['val_loss'])\n",
    "plt.title('Model loss')\n",
    "plt.xlabel('Epoch')\n",
    "plt.ylabel('Loss')\n",
    "plt.legend(['Train', 'Validation'], loc='upper left')\n",
    "plt.show()"
   ]
  },
  {
   "cell_type": "markdown",
   "metadata": {},
   "source": [
    "we found that there is a occurence of overfiting so we follow early stopping"
   ]
  },
  {
   "cell_type": "code",
   "execution_count": 147,
   "metadata": {},
   "outputs": [],
   "source": [
    "from tensorflow.keras.callbacks import EarlyStopping"
   ]
  },
  {
   "cell_type": "code",
   "execution_count": 148,
   "metadata": {},
   "outputs": [
    {
     "name": "stdout",
     "output_type": "stream",
     "text": [
      "Epoch 1/10\n",
      "225/225 [==============================] - 2s 3ms/step - loss: 0.2728 - accuracy: 0.8881 - val_loss: 0.3896 - val_accuracy: 0.8512\n",
      "Epoch 2/10\n",
      "225/225 [==============================] - 1s 4ms/step - loss: 0.2678 - accuracy: 0.8885 - val_loss: 0.3701 - val_accuracy: 0.8462\n",
      "Epoch 3/10\n",
      "225/225 [==============================] - 1s 2ms/step - loss: 0.2631 - accuracy: 0.8882 - val_loss: 0.3955 - val_accuracy: 0.8462\n",
      "Epoch 4/10\n",
      "225/225 [==============================] - 0s 2ms/step - loss: 0.2607 - accuracy: 0.8917 - val_loss: 0.3691 - val_accuracy: 0.8525\n",
      "Epoch 5/10\n",
      "225/225 [==============================] - 0s 2ms/step - loss: 0.2560 - accuracy: 0.8942 - val_loss: 0.3858 - val_accuracy: 0.8500\n",
      "Epoch 6/10\n",
      "225/225 [==============================] - 0s 2ms/step - loss: 0.2503 - accuracy: 0.8947 - val_loss: 0.4025 - val_accuracy: 0.8525\n",
      "Epoch 7/10\n",
      "225/225 [==============================] - 1s 2ms/step - loss: 0.2511 - accuracy: 0.8929 - val_loss: 0.3924 - val_accuracy: 0.8475\n",
      "63/63 [==============================] - 0s 1ms/step\n",
      "\n",
      "Accuracy with adam optimizer: 0.8615\n",
      "Confusion Matrix with adam optimizer:\n",
      "[[1539   68]\n",
      " [ 209  184]]\n",
      "Epoch 1/10\n",
      "225/225 [==============================] - 1s 3ms/step - loss: 0.2341 - accuracy: 0.9035 - val_loss: 0.3773 - val_accuracy: 0.8562\n",
      "Epoch 2/10\n",
      "225/225 [==============================] - 0s 2ms/step - loss: 0.2287 - accuracy: 0.9057 - val_loss: 0.3787 - val_accuracy: 0.8587\n",
      "Epoch 3/10\n",
      "225/225 [==============================] - 0s 2ms/step - loss: 0.2262 - accuracy: 0.9064 - val_loss: 0.3849 - val_accuracy: 0.8512\n",
      "Epoch 4/10\n",
      "225/225 [==============================] - 0s 2ms/step - loss: 0.2244 - accuracy: 0.9082 - val_loss: 0.3886 - val_accuracy: 0.8525\n",
      "63/63 [==============================] - 0s 1ms/step\n",
      "\n",
      "Accuracy with sgd optimizer: 0.862\n",
      "Confusion Matrix with sgd optimizer:\n",
      "[[1527   80]\n",
      " [ 196  197]]\n",
      "Epoch 1/10\n",
      "225/225 [==============================] - 1s 3ms/step - loss: 0.2562 - accuracy: 0.8922 - val_loss: 0.3868 - val_accuracy: 0.8462\n",
      "Epoch 2/10\n",
      "225/225 [==============================] - 0s 2ms/step - loss: 0.2521 - accuracy: 0.8944 - val_loss: 0.3886 - val_accuracy: 0.8462\n",
      "Epoch 3/10\n",
      "225/225 [==============================] - 0s 2ms/step - loss: 0.2487 - accuracy: 0.8947 - val_loss: 0.3970 - val_accuracy: 0.8413\n",
      "Epoch 4/10\n",
      "225/225 [==============================] - 0s 2ms/step - loss: 0.2450 - accuracy: 0.8983 - val_loss: 0.4173 - val_accuracy: 0.8375\n",
      "63/63 [==============================] - 0s 1ms/step\n",
      "\n",
      "Accuracy with rmsprop optimizer: 0.849\n",
      "Confusion Matrix with rmsprop optimizer:\n",
      "[[1520   87]\n",
      " [ 215  178]]\n"
     ]
    }
   ],
   "source": [
    "optimizers = ['adam', 'sgd', 'rmsprop']\n",
    "for optimizer in optimizers:\n",
    "    model.compile(optimizer=optimizer, loss='binary_crossentropy',metrics=['accuracy'])\n",
    "    early_stopping = EarlyStopping(monitor='val_loss', patience=3,restore_best_weights=True)\n",
    "    model.fit(x_train, y_train, epochs=10, batch_size=32, verbose=1,validation_split=0.1,callbacks=[early_stopping])\n",
    "    y_pred = model.predict(x_test)\n",
    "    y_pred = (y_pred > 0.5).astype(int)\n",
    "    accuracy = accuracy_score(y_test, y_pred)\n",
    "    print(f\"\\nAccuracy with {optimizer} optimizer: {accuracy}\")\n",
    "    print(f\"Confusion Matrix with {optimizer} optimizer:\\n{confusion_matrix(y_test, y_pred)}\")\n"
   ]
  },
  {
   "cell_type": "code",
   "execution_count": 149,
   "metadata": {},
   "outputs": [],
   "source": [
    "from tensorflow.keras.models import Sequential\n",
    "from tensorflow.keras.layers import Dense, Dropout\n",
    "from tensorflow.keras.regularizers import l2\n"
   ]
  },
  {
   "cell_type": "markdown",
   "metadata": {},
   "source": [
    "and lastly Using l2 reguralization techinque we found accuracy score and confusion Matrix\n"
   ]
  },
  {
   "cell_type": "code",
   "execution_count": 150,
   "metadata": {},
   "outputs": [
    {
     "name": "stdout",
     "output_type": "stream",
     "text": [
      "Epoch 1/10\n",
      "225/225 [==============================] - 4s 5ms/step - loss: 0.6467 - accuracy: 0.7886 - val_loss: 0.5411 - val_accuracy: 0.8037\n",
      "Epoch 2/10\n",
      "225/225 [==============================] - 1s 3ms/step - loss: 0.5310 - accuracy: 0.8168 - val_loss: 0.4502 - val_accuracy: 0.8600\n",
      "Epoch 3/10\n",
      "225/225 [==============================] - 1s 3ms/step - loss: 0.4672 - accuracy: 0.8447 - val_loss: 0.4216 - val_accuracy: 0.8637\n",
      "Epoch 4/10\n",
      "225/225 [==============================] - 1s 3ms/step - loss: 0.4436 - accuracy: 0.8510 - val_loss: 0.4087 - val_accuracy: 0.8662\n",
      "Epoch 5/10\n",
      "225/225 [==============================] - 1s 2ms/step - loss: 0.4250 - accuracy: 0.8503 - val_loss: 0.3960 - val_accuracy: 0.8600\n",
      "Epoch 6/10\n",
      "225/225 [==============================] - 1s 3ms/step - loss: 0.4160 - accuracy: 0.8526 - val_loss: 0.3890 - val_accuracy: 0.8600\n",
      "Epoch 7/10\n",
      "225/225 [==============================] - 1s 3ms/step - loss: 0.4034 - accuracy: 0.8600 - val_loss: 0.3858 - val_accuracy: 0.8625\n",
      "Epoch 8/10\n",
      "225/225 [==============================] - 1s 3ms/step - loss: 0.3987 - accuracy: 0.8572 - val_loss: 0.3800 - val_accuracy: 0.8587\n",
      "Epoch 9/10\n",
      "225/225 [==============================] - 1s 3ms/step - loss: 0.3951 - accuracy: 0.8587 - val_loss: 0.3757 - val_accuracy: 0.8612\n",
      "Epoch 10/10\n",
      "225/225 [==============================] - 1s 2ms/step - loss: 0.3927 - accuracy: 0.8606 - val_loss: 0.3726 - val_accuracy: 0.8550\n",
      "63/63 [==============================] - 0s 2ms/step\n",
      "\n",
      "Accuracy with adam optimizer, regularization, and earlystopping: 0.863\n",
      "Confusion Matrix with adam optimizer, regularization, and early stopping:\n",
      "[[1532   75]\n",
      " [ 199  194]]\n",
      "Epoch 1/10\n",
      "225/225 [==============================] - 2s 3ms/step - loss: 0.7694 - accuracy: 0.7801 - val_loss: 0.6932 - val_accuracy: 0.8037\n",
      "Epoch 2/10\n",
      "225/225 [==============================] - 1s 3ms/step - loss: 0.7051 - accuracy: 0.7935 - val_loss: 0.6667 - val_accuracy: 0.8037\n",
      "Epoch 3/10\n",
      "225/225 [==============================] - 1s 3ms/step - loss: 0.6922 - accuracy: 0.7935 - val_loss: 0.6521 - val_accuracy: 0.8037\n",
      "Epoch 4/10\n",
      "225/225 [==============================] - 1s 3ms/step - loss: 0.6817 - accuracy: 0.7935 - val_loss: 0.6395 - val_accuracy: 0.8037\n",
      "Epoch 5/10\n",
      "225/225 [==============================] - 1s 2ms/step - loss: 0.6730 - accuracy: 0.7935 - val_loss: 0.6263 - val_accuracy: 0.8037\n",
      "Epoch 6/10\n",
      "225/225 [==============================] - 1s 2ms/step - loss: 0.6574 - accuracy: 0.7935 - val_loss: 0.6158 - val_accuracy: 0.8037\n",
      "Epoch 7/10\n",
      "225/225 [==============================] - 1s 3ms/step - loss: 0.6497 - accuracy: 0.7933 - val_loss: 0.6065 - val_accuracy: 0.8037\n",
      "Epoch 8/10\n",
      "225/225 [==============================] - 1s 3ms/step - loss: 0.6464 - accuracy: 0.7935 - val_loss: 0.6000 - val_accuracy: 0.8037\n",
      "Epoch 9/10\n",
      "225/225 [==============================] - 1s 3ms/step - loss: 0.6402 - accuracy: 0.7935 - val_loss: 0.5962 - val_accuracy: 0.8037\n",
      "Epoch 10/10\n",
      "225/225 [==============================] - 1s 4ms/step - loss: 0.6297 - accuracy: 0.7932 - val_loss: 0.5902 - val_accuracy: 0.8037\n",
      "63/63 [==============================] - 0s 2ms/step\n",
      "\n",
      "Accuracy with sgd optimizer, regularization, and earlystopping: 0.8035\n",
      "Confusion Matrix with sgd optimizer, regularization, and early stopping:\n",
      "[[1607    0]\n",
      " [ 393    0]]\n",
      "Epoch 1/10\n",
      "225/225 [==============================] - 3s 7ms/step - loss: 0.6358 - accuracy: 0.7908 - val_loss: 0.5319 - val_accuracy: 0.8037\n",
      "Epoch 2/10\n",
      "225/225 [==============================] - 1s 2ms/step - loss: 0.5385 - accuracy: 0.8114 - val_loss: 0.4680 - val_accuracy: 0.8413\n",
      "Epoch 3/10\n",
      "225/225 [==============================] - 1s 2ms/step - loss: 0.4814 - accuracy: 0.8396 - val_loss: 0.4239 - val_accuracy: 0.8512\n",
      "Epoch 4/10\n",
      "225/225 [==============================] - 1s 6ms/step - loss: 0.4399 - accuracy: 0.8490 - val_loss: 0.4037 - val_accuracy: 0.8587\n",
      "Epoch 5/10\n",
      "225/225 [==============================] - 1s 6ms/step - loss: 0.4315 - accuracy: 0.8519 - val_loss: 0.3996 - val_accuracy: 0.8600\n",
      "Epoch 6/10\n",
      "225/225 [==============================] - 1s 6ms/step - loss: 0.4183 - accuracy: 0.8529 - val_loss: 0.3887 - val_accuracy: 0.8662\n",
      "Epoch 7/10\n",
      "225/225 [==============================] - 1s 5ms/step - loss: 0.4096 - accuracy: 0.8569 - val_loss: 0.3839 - val_accuracy: 0.8562\n",
      "Epoch 8/10\n",
      "225/225 [==============================] - 1s 4ms/step - loss: 0.4096 - accuracy: 0.8549 - val_loss: 0.3870 - val_accuracy: 0.8512\n",
      "Epoch 9/10\n",
      "225/225 [==============================] - 1s 5ms/step - loss: 0.3970 - accuracy: 0.8583 - val_loss: 0.3805 - val_accuracy: 0.8612\n",
      "Epoch 10/10\n",
      "225/225 [==============================] - 1s 5ms/step - loss: 0.3964 - accuracy: 0.8569 - val_loss: 0.3751 - val_accuracy: 0.8550\n",
      "63/63 [==============================] - 0s 3ms/step\n",
      "\n",
      "Accuracy with rmsprop optimizer, regularization, and earlystopping: 0.862\n",
      "Confusion Matrix with rmsprop optimizer, regularization, and early stopping:\n",
      "[[1550   57]\n",
      " [ 219  174]]\n"
     ]
    }
   ],
   "source": [
    "optimizers = ['adam', 'sgd', 'rmsprop']\n",
    "for optimizer in optimizers:\n",
    "    model = Sequential()\n",
    "    model.add(Dense(units=128, activation='relu', input_dim=x_train.shape[1],kernel_regularizer=l2(0.001)))\n",
    "    model.add(Dropout(0.2))\n",
    "    model.add(Dense(units=64, activation='relu', kernel_regularizer=l2(0.001)))\n",
    "    model.add(Dropout(0.2))\n",
    "    model.add(Dense(units=32, activation='relu', kernel_regularizer=l2(0.001)))\n",
    "    model.add(Dense(units=32, activation='relu', kernel_regularizer=l2(0.001)))\n",
    "    model.add(Dropout(0.2))\n",
    "    model.add(Dense(units=16, activation='relu', kernel_regularizer=l2(0.001)))\n",
    "    model.add(Dropout(0.2))\n",
    "    model.add(Dense(units=1, activation='sigmoid'))\n",
    "    model.compile(optimizer=optimizer, loss='binary_crossentropy',metrics=['accuracy'])\n",
    "    early_stopping = tf.keras.callbacks.EarlyStopping(monitor='val_loss',patience=2, restore_best_weights=True)\n",
    "    model.fit(x_train, y_train, epochs=10, batch_size=32, verbose=1,validation_split=0.1, callbacks=[early_stopping])\n",
    "    y_pred = model.predict(x_test)\n",
    "    y_pred = (y_pred > 0.5).astype(int)\n",
    "    accuracy = accuracy_score(y_test, y_pred)\n",
    "    print(f\"\\nAccuracy with {optimizer} optimizer, regularization, and earlystopping: {accuracy}\")\n",
    "    print(f\"Confusion Matrix with {optimizer} optimizer, regularization, and early stopping:\\n{confusion_matrix(y_test, y_pred)}\")\n",
    "\n",
    "\n",
    "\n"
   ]
  },
  {
   "cell_type": "code",
   "execution_count": null,
   "metadata": {},
   "outputs": [],
   "source": []
  }
 ],
 "metadata": {
  "kernelspec": {
   "display_name": "Python 3",
   "language": "python",
   "name": "python3"
  },
  "language_info": {
   "codemirror_mode": {
    "name": "ipython",
    "version": 3
   },
   "file_extension": ".py",
   "mimetype": "text/x-python",
   "name": "python",
   "nbconvert_exporter": "python",
   "pygments_lexer": "ipython3",
   "version": "3.11.4"
  }
 },
 "nbformat": 4,
 "nbformat_minor": 2
}
